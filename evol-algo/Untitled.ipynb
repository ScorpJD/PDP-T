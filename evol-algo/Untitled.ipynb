{
 "cells": [
  {
   "cell_type": "markdown",
   "metadata": {},
   "source": [
    "### Idea:\n",
    "* 2-phases algorithm:\n",
    "   + Simple evolutive alogrithm that solves PDP\n",
    "   + use local search in order to add trasnfer points \n",
    "* Hybrid evolutive algorithm that solves PDPT problem"
   ]
  },
  {
   "cell_type": "markdown",
   "metadata": {},
   "source": [
    "## Instances\n",
    "[Li & Lim Benchmark](https://www.sintef.no/projectweb/top/pdptw/li-lim-benchmark/)"
   ]
  },
  {
   "cell_type": "markdown",
   "metadata": {},
   "source": [
    "# Hybrid evolutive algorithm"
   ]
  },
  {
   "cell_type": "code",
   "execution_count": 4,
   "metadata": {},
   "outputs": [
    {
     "name": "stdout",
     "output_type": "stream",
     "text": [
      "25\t200\t1\r",
      "\r\n",
      "0\t40\t50\t0\t0\t240\t0\t0\t0\r",
      "\r\n",
      "1\t25\t85\t20\t145\t175\t0\t0\t105\r",
      "\r\n",
      "2\t22\t75\t-10\t50\t80\t10\t45\t0\r",
      "\r\n",
      "3\t22\t85\t-10\t109\t139\t10\t8\t0\r",
      "\r\n",
      "4\t20\t80\t-20\t141\t171\t10\t5\t0\r",
      "\r\n",
      "5\t20\t85\t20\t41\t71\t10\t0\t4\r",
      "\r\n",
      "6\t18\t75\t-20\t95\t125\t10\t7\t0\r",
      "\r\n",
      "7\t15\t75\t20\t79\t109\t10\t0\t6\r",
      "\r\n",
      "8\t15\t80\t10\t91\t121\t10\t0\t3\r",
      "\r\n",
      "9\t10\t35\t20\t91\t121\t10\t0\t13\r",
      "\r\n",
      "10\t10\t40\t30\t119\t149\t10\t0\t17\r",
      "\r\n",
      "11\t8\t40\t40\t59\t89\t10\t0\t15\r",
      "\r\n",
      "12\t8\t45\t20\t64\t94\t10\t0\t46\r",
      "\r\n",
      "13\t5\t35\t-20\t142\t172\t10\t9\t0\r",
      "\r\n",
      "14\t5\t45\t10\t35\t65\t10\t0\t47\r",
      "\r\n",
      "15\t2\t40\t-40\t58\t88\t10\t11\t0\r",
      "\r\n",
      "16\t0\t40\t-9\t72\t102\t10\t82\t0\r",
      "\r\n",
      "17\t0\t45\t-30\t149\t179\t10\t10\t0\r",
      "\r\n",
      "18\t44\t5\t-40\t87\t117\t10\t19\t0\r",
      "\r\n",
      "19\t42\t10\t40\t72\t102\t10\t0\t18\r",
      "\r\n",
      "20\t42\t15\t-10\t122\t152\t10\t49\t0\r",
      "\r\n",
      "21\t40\t5\t-30\t67\t97\t10\t23\t0\r",
      "\r\n",
      "22\t40\t15\t40\t92\t122\t10\t0\t24\r",
      "\r\n",
      "23\t38\t5\t30\t65\t95\t10\t0\t21\r",
      "\r\n",
      "24\t38\t15\t-40\t148\t178\t10\t22\t0\r",
      "\r\n",
      "25\t35\t5\t20\t154\t184\t0\t0\t101\r",
      "\r\n",
      "26\t95\t30\t-10\t115\t145\t10\t28\t0\r",
      "\r\n",
      "27\t95\t35\t20\t62\t92\t10\t0\t91\r",
      "\r\n",
      "28\t92\t30\t10\t62\t92\t10\t0\t26\r",
      "\r\n",
      "29\t90\t35\t10\t67\t97\t10\t0\t93\r",
      "\r\n",
      "30\t88\t30\t10\t74\t104\t10\t0\t32\r",
      "\r\n",
      "31\t88\t35\t20\t61\t91\t10\t0\t89\r",
      "\r\n",
      "32\t87\t30\t-10\t131\t161\t10\t30\t0\r",
      "\r\n",
      "33\t85\t25\t10\t51\t81\t10\t0\t34\r",
      "\r\n",
      "34\t85\t35\t-10\t111\t141\t10\t33\t0\r",
      "\r\n",
      "35\t67\t85\t-30\t139\t169\t10\t40\t0\r",
      "\r\n",
      "36\t65\t85\t-8\t43\t73\t10\t72\t0\r",
      "\r\n",
      "37\t65\t82\t-20\t124\t154\t10\t41\t0\r",
      "\r\n",
      "38\t62\t80\t30\t75\t105\t10\t0\t43\r",
      "\r\n",
      "39\t60\t80\t10\t37\t67\t10\t0\t54\r",
      "\r\n",
      "40\t60\t85\t30\t85\t115\t10\t0\t35\r",
      "\r\n",
      "41\t58\t75\t20\t92\t122\t10\t0\t37\r",
      "\r\n",
      "42\t55\t80\t10\t33\t63\t10\t0\t44\r",
      "\r\n",
      "43\t55\t85\t-30\t128\t158\t10\t38\t0\r",
      "\r\n",
      "44\t55\t82\t-10\t64\t94\t10\t42\t0\r",
      "\r\n",
      "45\t20\t82\t10\t37\t67\t10\t0\t2\r",
      "\r\n",
      "46\t18\t80\t-20\t113\t143\t10\t12\t0\r",
      "\r\n",
      "47\t2\t45\t-10\t45\t75\t10\t14\t0\r",
      "\r\n",
      "48\t42\t5\t-14\t151\t181\t10\t83\t0\r",
      "\r\n",
      "49\t42\t12\t10\t104\t134\t10\t0\t20\r",
      "\r\n",
      "50\t72\t35\t30\t116\t146\t10\t0\t80\r",
      "\r\n",
      "51\t55\t20\t-6\t83\t113\t10\t63\t0\r",
      "\r\n",
      "52\t25\t30\t3\t52\t82\t10\t0\t57\r",
      "\r\n",
      "53\t20\t50\t5\t91\t121\t10\t0\t100\r",
      "\r\n",
      "54\t55\t60\t-10\t139\t169\t10\t39\t0\r",
      "\r\n",
      "55\t30\t60\t-30\t140\t170\t10\t79\t0\r",
      "\r\n",
      "56\t50\t35\t-6\t130\t160\t10\t90\t0\r",
      "\r\n",
      "57\t30\t25\t-3\t96\t126\t10\t52\t0\r",
      "\r\n",
      "58\t15\t10\t-16\t152\t182\t10\t75\t0\r",
      "\r\n",
      "59\t10\t20\t19\t42\t72\t10\t0\t97\r",
      "\r\n",
      "60\t15\t60\t17\t155\t185\t10\t0\t70\r",
      "\r\n",
      "61\t45\t65\t9\t66\t96\t10\t0\t68\r",
      "\r\n",
      "62\t65\t35\t3\t52\t82\t10\t0\t94\r",
      "\r\n",
      "63\t65\t20\t6\t39\t69\t10\t0\t51\r",
      "\r\n",
      "64\t45\t30\t17\t53\t83\t0\t0\t103\r",
      "\r\n",
      "65\t35\t40\t16\t11\t41\t10\t0\t74\r",
      "\r\n",
      "66\t41\t37\t-18\t133\t163\t10\t84\t0\r",
      "\r\n",
      "67\t64\t42\t9\t70\t100\t10\t0\t71\r",
      "\r\n",
      "68\t40\t60\t-9\t144\t174\t10\t61\t0\r",
      "\r\n",
      "69\t31\t52\t27\t41\t71\t10\t0\t78\r",
      "\r\n",
      "70\t35\t69\t-17\t180\t210\t10\t60\t0\r",
      "\r\n",
      "71\t65\t55\t-9\t65\t95\t10\t67\t0\r",
      "\r\n",
      "72\t63\t65\t8\t30\t60\t10\t0\t36\r",
      "\r\n",
      "73\t2\t60\t5\t77\t107\t0\t0\t106\r",
      "\r\n",
      "74\t20\t20\t-16\t141\t171\t10\t65\t0\r",
      "\r\n",
      "75\t5\t5\t16\t74\t104\t10\t0\t58\r",
      "\r\n",
      "76\t60\t12\t31\t75\t105\t0\t0\t104\r",
      "\r\n",
      "77\t23\t3\t-13\t150\t180\t10\t87\t0\r",
      "\r\n",
      "78\t8\t56\t-27\t90\t120\t10\t69\t0\r",
      "\r\n",
      "79\t6\t68\t30\t89\t119\t10\t0\t55\r",
      "\r\n",
      "80\t47\t47\t-30\t192\t222\t10\t50\t0\r",
      "\r\n",
      "81\t49\t58\t10\t86\t116\t10\t0\t96\r",
      "\r\n",
      "82\t27\t43\t9\t42\t72\t10\t0\t16\r",
      "\r\n",
      "83\t37\t31\t14\t35\t65\t10\t0\t48\r",
      "\r\n",
      "84\t57\t29\t18\t96\t126\t10\t0\t66\r",
      "\r\n",
      "85\t63\t23\t2\t87\t117\t0\t0\t102\r",
      "\r\n",
      "86\t21\t24\t-15\t87\t117\t10\t99\t0\r",
      "\r\n",
      "87\t12\t24\t13\t90\t120\t10\t0\t77\r",
      "\r\n",
      "88\t24\t58\t-9\t67\t97\t10\t98\t0\r",
      "\r\n",
      "89\t67\t5\t-20\t144\t174\t10\t31\t0\r",
      "\r\n",
      "90\t37\t47\t6\t86\t116\t10\t0\t56\r",
      "\r\n",
      "91\t49\t42\t-20\t167\t197\t10\t27\t0\r",
      "\r\n",
      "92\t53\t43\t14\t14\t44\t10\t0\t95\r",
      "\r\n",
      "93\t61\t52\t-10\t178\t208\t10\t29\t0\r",
      "\r\n",
      "94\t57\t48\t-3\t95\t125\t10\t62\t0\r",
      "\r\n",
      "95\t56\t37\t-14\t34\t64\t10\t92\t0\r",
      "\r\n",
      "96\t55\t54\t-10\t132\t162\t10\t81\t0\r",
      "\r\n",
      "97\t4\t18\t-19\t120\t150\t10\t59\t0\r",
      "\r\n",
      "98\t26\t52\t9\t46\t76\t10\t0\t88\r",
      "\r\n",
      "99\t26\t35\t15\t77\t107\t10\t0\t86\r",
      "\r\n",
      "100\t31\t67\t-5\t180\t210\t10\t53\t0\r",
      "\r\n",
      "101\t35\t5\t-20\t154\t184\t10\t25\t0\r",
      "\r\n",
      "102\t63\t23\t-2\t87\t117\t10\t85\t0\r",
      "\r\n",
      "103\t45\t30\t-17\t53\t83\t10\t64\t0\r",
      "\r\n",
      "104\t60\t12\t-31\t75\t105\t10\t76\t0\r",
      "\r\n",
      "105\t25\t85\t-20\t145\t175\t10\t1\t0\r",
      "\r\n",
      "106\t2\t60\t-5\t77\t107\t10\t73\t0\r",
      "\r\n"
     ]
    }
   ],
   "source": [
    "# Input\n",
    "!cat Instance/data/lrc101.txt"
   ]
  },
  {
   "cell_type": "code",
   "execution_count": 5,
   "metadata": {},
   "outputs": [],
   "source": [
    "import numpy as np\n",
    "import networkx as nx"
   ]
  },
  {
   "cell_type": "code",
   "execution_count": null,
   "metadata": {},
   "outputs": [],
   "source": [
    "class Problem:\n",
    "    def __init__(self, filePath):\n",
    "        TODO"
   ]
  },
  {
   "cell_type": "code",
   "execution_count": 319,
   "metadata": {},
   "outputs": [],
   "source": [
    "class Nucleosome:\n",
    "    def __init__(self, sol=np.array([]), key=np.array([])):\n",
    "        self.sol = self.reconstruct(sol, key)\n",
    "        self.key = self.randkey(key)\n",
    "        self.path = np.argsort(self.sol)[(self.sol==0).sum():] + 1\n",
    "    \n",
    "    def reconstruct(self, sol, key):\n",
    "        if sol.any():\n",
    "            return sol\n",
    "        pos = 1\n",
    "        sol = np.array(key, copy=True)\n",
    "        for i in range(len(sol)):\n",
    "            if sol[i]:\n",
    "                sol[i] = pos\n",
    "                pos += 1\n",
    "        return sol.astype(int)\n",
    "            \n",
    "    def randkey(self, key):\n",
    "        if key.size:\n",
    "            return key\n",
    "        return (self.sol != 0)*4*np.exp(-self.sol)/(1 + np.exp(-self.sol))**2    \n"
   ]
  },
  {
   "cell_type": "code",
   "execution_count": 320,
   "metadata": {},
   "outputs": [
    {
     "name": "stdout",
     "output_type": "stream",
     "text": [
      "[0 1 2 3 0 4 0]\n"
     ]
    },
    {
     "data": {
      "text/plain": [
       "array([0, 1, 2, 3, 0, 4, 0])"
      ]
     },
     "execution_count": 320,
     "metadata": {},
     "output_type": "execute_result"
    }
   ],
   "source": [
    "foo = Nucleosome(np.array([0, 1, 2, 3, 0, 4, 0]))\n",
    "print(foo.sol)\n",
    "Nucleosome(key=foo.key).sol\n",
    "#print(foo.path)"
   ]
  },
  {
   "cell_type": "code",
   "execution_count": 321,
   "metadata": {},
   "outputs": [
    {
     "data": {
      "text/plain": [
       "1"
      ]
     },
     "execution_count": 321,
     "metadata": {},
     "output_type": "execute_result"
    }
   ],
   "source": [
    "foos = np.array([foo, foo])\n",
    "a = amap(lambda x: x.sol, foos).flatten()\n",
    "len(foos.shape)"
   ]
  },
  {
   "cell_type": "code",
   "execution_count": 358,
   "metadata": {},
   "outputs": [],
   "source": [
    "class Chromosome:\n",
    "    def __init__(self, nucList=np.array([]), gen=np.array([]), problem=None):\n",
    "        self.N = 2#problem.N\n",
    "        if nucList.size:\n",
    "            self.sol = amap(lambda x: x.sol, nucList)\n",
    "            self.key = amap(lambda x: x.key, nucList)\n",
    "            self.gen = self.key.flatten()\n",
    "            self.path = amap(lambda x: x.path, nucList)\n",
    "        else:\n",
    "            self.gen = gen\n",
    "            self.key = gen.reshape(self.N, int(len(gen)/self.N))\n",
    "            self.sol = self.reconstruct()\n",
    "            self.path = self.pathConstruction()\n",
    "    \n",
    "    def reconstruct(self):\n",
    "        pos = 1\n",
    "        sol = np.array(self.key, copy=True)\n",
    "        if self.N == 1:\n",
    "            for i in range(len(sol)):\n",
    "                if sol[i]:\n",
    "                    sol[i] = pos\n",
    "                    pos += 1\n",
    "        else:\n",
    "            for i in range(sol.shape[0]):\n",
    "                pos = 1\n",
    "                for j in range(sol.shape[1]):\n",
    "                    if sol[i][j]:\n",
    "                        sol[i][j] = pos\n",
    "                        pos += 1\n",
    "        return sol.astype(int)\n",
    "    \n",
    "    def pathConstruction(self):\n",
    "        path = list(self.sol)\n",
    "        for i in range(len(path)):\n",
    "            path[i] = path[i].argsort()[(path[i]==0).sum():] + 1\n",
    "        return np.array(path)"
   ]
  },
  {
   "cell_type": "code",
   "execution_count": 366,
   "metadata": {},
   "outputs": [
    {
     "data": {
      "text/plain": [
       "True"
      ]
     },
     "execution_count": 366,
     "metadata": {},
     "output_type": "execute_result"
    }
   ],
   "source": [
    "b = Chromosome(foos)\n",
    "a = Chromosome(gen=b.gen)"
   ]
  },
  {
   "cell_type": "code",
   "execution_count": 273,
   "metadata": {},
   "outputs": [],
   "source": []
  },
  {
   "cell_type": "code",
   "execution_count": 280,
   "metadata": {},
   "outputs": [
    {
     "data": {
      "text/plain": [
       "array([[2, 3, 4, 6],\n",
       "       [2, 3, 4, 6]])"
      ]
     },
     "execution_count": 280,
     "metadata": {},
     "output_type": "execute_result"
    }
   ],
   "source": [
    "b.path# == b.sol"
   ]
  },
  {
   "cell_type": "code",
   "execution_count": 281,
   "metadata": {},
   "outputs": [
    {
     "data": {
      "text/plain": [
       "array([[0, 1, 2, 3, 0, 4, 0],\n",
       "       [0, 1, 2, 3, 0, 4, 0]])"
      ]
     },
     "execution_count": 281,
     "metadata": {},
     "output_type": "execute_result"
    }
   ],
   "source": [
    "b.sol"
   ]
  },
  {
   "cell_type": "code",
   "execution_count": null,
   "metadata": {},
   "outputs": [],
   "source": []
  }
 ],
 "metadata": {
  "kernelspec": {
   "display_name": "Python 3",
   "language": "python",
   "name": "python3"
  },
  "language_info": {
   "codemirror_mode": {
    "name": "ipython",
    "version": 3
   },
   "file_extension": ".py",
   "mimetype": "text/x-python",
   "name": "python",
   "nbconvert_exporter": "python",
   "pygments_lexer": "ipython3",
   "version": "3.6.3"
  }
 },
 "nbformat": 4,
 "nbformat_minor": 2
}
