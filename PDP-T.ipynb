{
 "cells": [
  {
   "cell_type": "markdown",
   "metadata": {},
   "source": [
    "# The pickup and delivery problem with transfers\n",
    "By: Santiago Hincapie and Catalina Lesmes"
   ]
  },
  {
   "cell_type": "markdown",
   "metadata": {},
   "source": [
    "## Pickup and delivery\n",
    "The formulation we propose in this paper relies on the original PDP idea found in Desrochers et al. (1988), Desrosiers et al. (1995), Savelsbergh and Sol (1995). PDP can be conceptually described as finding the optimal way of assigning a set of transportation requests to a fleet of vehicles (initially located at several depots), by minimizing a specific purpose objective function, subject to a variety of constraints. The objective function may include components such  as operational costs, number of vehicles, customer’s level of service, and so on.\n",
    "\n",
    "A transportation request consists of picking up a certain number of passengers from a predetermined pickup location and dropping them off at a predetermined delivery location.\n",
    "\n",
    "the typical objective functions to be minimized are, in first place, the fleet size needed to satisfy the demand\n",
    "with a determined level of service, and next, the total distance traveled by all vehicles, provided that the fleet size is fixed. In the case of passenger movements, instead of the distance attribute, a more reasonable objective function should include both the total waiting and travel time of all passengers, combined with some measure of the operational cost for running the system, weighted differently.\n",
    "\n",
    "PDP constraints can be:\n",
    "  * classified as visiting constraints (each pickup and delivery has to be visited exactly once)\n",
    "  * vehicle capacity constraints\n",
    "  * depot constraints \n",
    "  * coupling constraints (stating that for a given request the same vehicle must visit the pickup and delivery stops)\n",
    "  * precedence constraints\n",
    "  * resource constraints on the availability of drivers and vehicles\n",
    "  * time window constraints to be satisfied at each stop, if time windows are explicitly defined"
   ]
  },
  {
   "cell_type": "markdown",
   "metadata": {},
   "source": [
    "## Pickup and delivery with transfers\n",
    "Let us describe the transfer point as a special object into the modeling context. In classical PDP, three kind of nodes can be distinguished: \n",
    "  * depots\n",
    "  * origins \n",
    "  * destinations.\n",
    "At every origin or destination node, we identify only  one operation associated with vehicles, which is either loading (origin) or unloading (destination) of passengers, but not both. At depots, actually there is no load/unload of passengers since vehicles start and finish their routes empty.\n",
    "\n",
    "In the case of transfer nodes, vehicles may either load or unload passengers. To capture the difference between both operations, we propose to split every transfer node $r$, into two separate nodes, $s(r)$ (start node) and $f(r)$ (finish node), within which, only one operation associated with vehicles load/unload is allowed. When a vehicle passes through a transfer point $r$, it first enters node $s(r)$ to allow set down of passengers who wish to transfer to a different vehicle. The vehicle then proceeds (at least notionally) to node $f(r)$, where waiting passengers can get on board."
   ]
  },
  {
   "cell_type": "markdown",
   "metadata": {},
   "source": []
  },
  {
   "cell_type": "code",
   "execution_count": 34,
   "metadata": {},
   "outputs": [
    {
     "name": "stdout",
     "output_type": "stream",
     "text": [
      "Overwriting example.pdpt\n"
     ]
    }
   ],
   "source": [
    "%%writefile example.pdpt\n",
    "3\n",
    "1 1 2\n",
    "10 30 24\n",
    "3 5\n",
    "5\n",
    "1 2 3\n",
    "2 5 6\n",
    "4 1 7\n",
    "3 2 8\n",
    "1 5 9\n",
    "-\n",
    "1 2 6\n",
    "1 5 7\n",
    "1 4 15\n",
    "2 3 5\n",
    "3 4 4\n",
    "5 3 10"
   ]
  },
  {
   "cell_type": "code",
   "execution_count": 1,
   "metadata": {},
   "outputs": [],
   "source": [
    "#%%writefile vehicle.py\n",
    "class Vehicle:\n",
    "    \"\"\"Vehicle Class.\n",
    "    \n",
    "    This class store information about problem vehicles\n",
    "    \n",
    "    Attribuetes:\n",
    "        time               (int): The actual time.\n",
    "        position           (int): The vehicles actual position.\n",
    "        capacity           (int): The vehicles actual capacity.\n",
    "        limit              (int): The vehicles limit capacity.\n",
    "        distance          (list): The distance travel.\n",
    "    \"\"\"\n",
    "    def __init__(self, depost = None, limit = 0, request = []):\n",
    "        \"\"\"init method for PDPT class\n",
    "        \n",
    "        This method construct an PDPT instance\n",
    "        \n",
    "        Parameters:\n",
    "            deposts  (list): The vehicle initial position\n",
    "            limit   (tuple): The vehicle limit capacity\n",
    "            request      (list): The request assign to this vehicle\n",
    "        \"\"\"\n",
    "        self.time = 0\n",
    "        self.position = depost\n",
    "        self.requests = request\n",
    "        self.limit = limit\n",
    "        self.distance = 0\n",
    "\n",
    "    def move(self, nx, cost):\n",
    "        self.position = nx\n",
    "        self.distance += cost\n",
    "        delivery()\n",
    "\n",
    "    def capacity(self):\n",
    "        return sum([i[0] for i in self.requests])\n",
    "    \n",
    "    def endpoints(self):\n",
    "        return [i[1] for i in self.requests]\n",
    "            \n",
    "    def pickup(self, value, destination):\n",
    "        if value + self.capacity() < self.limit:\n",
    "            self.requests.append((value, destination))\n",
    "        else:\n",
    "            value/0 # the ugliest way to generate an error\n",
    "    \n",
    "    def delivery(self):\n",
    "        # https://stackoverflow.com/a/2522013/7929168 \n",
    "        # why this instance try/except(ValueError)\n",
    "        end = endpoints()\n",
    "        while self.position in end: # if i can deliver\n",
    "            pos = end.index(self.position)\n",
    "            print(\"delivering {}\".format(self.requests[pos]))\n",
    "            del self.requests[pos]\n",
    "                        \n",
    "    def Transfer(self, other, request):\n",
    "        index = self.requests.index(request)\n",
    "        del self.requests[index]\n",
    "        other.requests.append(request)\n",
    "        \n",
    "    def __rshift__(self, other):\n",
    "        # Full transfer\n",
    "        if self.capacity() + other.capacity() < other.limit:\n",
    "            other.requests.extend(self.requests)\n",
    "            self.requests = []\n",
    "        else:\n",
    "            self.requests.sort(key=lambda x: x[0], reverse=True)\n",
    "            oc = other.capacity()\n",
    "            while self.requests and self.requests[-1][0] + oc < other.limit:\n",
    "                oc += self.requests[-1][0]\n",
    "                other.requests.append(self.requests.pop())\n",
    "\n",
    "    def __str__(self):\n",
    "        return \"\"\"\n",
    "           o__________________\n",
    "           |              |   \\\\\n",
    "           |     cap {c}    |____\\\\_____\n",
    "           | _____        |    |_o__ |\n",
    "           [/ ___ \\       |   / ___ \\|\n",
    "          []_/.-.\\_\\______|__/_/.-.\\_[]\n",
    "             |(O)|             |(O)|\n",
    "              '-'   Pos {n}       '-'\n",
    "        ---   ---   ---   ---   ---   --- \n",
    "        request : {req}\n",
    "        \"\"\".format(c = self.limit,\n",
    "                   n = self.position,\n",
    "                   req = self.requests)"
   ]
  },
  {
   "cell_type": "code",
   "execution_count": 204,
   "metadata": {},
   "outputs": [],
   "source": [
    "import networkx as nx\n",
    "import matplotlib.pyplot as plt\n",
    "\n",
    "class PDPT:\n",
    "    \"\"\"Pickup and delivery with Transfers Class.\n",
    "    \n",
    "    This class has the PDPT model.\n",
    "    \n",
    "    Attribuetes:\n",
    "        N                  (int): The total numbers of vehicles in the instance.\n",
    "        time               (int): The actual time.\n",
    "        vehicles          (list): List of problem vehicles\n",
    "        transfer_points  (tuple): Transfer Points\n",
    "        requests          (dict): The Problem request\n",
    "        origins          (tuple): The origin point for each request\n",
    "        destinations     (tuple): The destination point for each request\n",
    "        routes        (nx.Graph): The Graph with all the posible routes\n",
    "    \"\"\"\n",
    "    \n",
    "    def __init__(self, number_of_vehicles = 0, deposts = [], limit = [],\n",
    "                 transfer_points = (), requests = {}, graph = None):\n",
    "        \"\"\"init method for PDPT class\n",
    "        \n",
    "        This method construct an PDPT instance\n",
    "        \n",
    "        Parameters:\n",
    "            number_of_vehicles  (int): The total numbers of vehicles in the \n",
    "                                       instance.\n",
    "            deposts            (list): The vehicles initial position, must have \n",
    "                                       a length of N\n",
    "            limit             (tuple): The vehicles limit capacity, must have a\n",
    "                                       length of N\n",
    "            transfer_points   (tuple): Transfer Points\n",
    "            requests           (dict): The Problem request\n",
    "            graph          (nx.Graph): The Graph with all the posible routes\n",
    "        \"\"\"\n",
    "        self.N = number_of_vehicles\n",
    "        self.time = 0\n",
    "        self.vehicles = []\n",
    "        for i in range(self.N):\n",
    "            self.vehicles.append(Vehicle(deposts[i], limit[i]))        \n",
    "        self.transfer_points = transfer_points\n",
    "        self.requests = requests\n",
    "        self.origins = tuple(requests.keys())\n",
    "        self.destinations = tuple(requests.values())\n",
    "        self.routes = graph\n",
    "    \n",
    "    def solve(self, method = None, solution = None):\n",
    "        \"\"\"solver for PDPT instance\n",
    "        \n",
    "        Parameters:\n",
    "            method      (str): the solution method\n",
    "            solution  (tuple): initial solution\n",
    "        \n",
    "        Return:\n",
    "            * Moves Matrix\n",
    "            * total distance\n",
    "        \"\"\"\n",
    "        path, dist = nx.floyd_warshall_predecessor_and_distance(self.routes)\n",
    "        return\n",
    "    \n",
    "    def __str__(self):\n",
    "        self.shoNonew()\n",
    "        return '''This PDPT instance\n",
    "        must to solve: {rq}\n",
    "        The route trasfer points are {tra}\n",
    "        '''.format(n = self.N, rq = self.requests,\n",
    "                   tra = self.transfer_points)\n",
    "    \n",
    "    def show(self, pos = None, save = False): # TODO print graph\n",
    "        positions = list(map(lambda x:x.position, self.vehicles))\n",
    "        cact = list(set(self.routes.nodes()) - set(positions))\n",
    "        if not pos:\n",
    "            pos=nx.spring_layout(self.routes)\n",
    "        nx.draw_networkx_nodes(self.routes, pos,\n",
    "                               nodelist=cact,\n",
    "                               node_size=500)\n",
    "        nx.draw_networkx_nodes(self.routes, pos,\n",
    "                              nodelist=positions,\n",
    "                              node_size=500, node_color = 'g')\n",
    "        nx.draw_networkx_edges(self.routes, pos, width=3)\n",
    "        nx.draw_networkx_labels(self.routes, pos, font_size=15,\n",
    "                                font_family='sans-serif')\n",
    "        plt.axis('off')\n",
    "        if save:\n",
    "            name = input()\n",
    "            plt.savefig(name + \".png\")\n",
    "        plt.show() \n",
    "    # def pretty_print(self, solution = None, method = ): TODO print_solution\n",
    "    \n",
    "\n",
    "def fromfile(path):\n",
    "    with open(path,'r') as file:\n",
    "        N = int(file.readline())\n",
    "        deposts = list(map(int, file.readline().split()))\n",
    "        limit = tuple(map(int, file.readline().split()))\n",
    "        transfer_points = tuple(map(int, file.readline().split()))\n",
    "        Nrequest = int(file.readline())\n",
    "        requests = {}\n",
    "        for i in range(Nrequest):\n",
    "            ox, ex, wx = map(int, file.readline().split())\n",
    "            aux = ex, wx\n",
    "            if ox in requests:\n",
    "                requests[ox].append(tuple(aux))\n",
    "            else:\n",
    "                requests[ox] = [tuple(aux)]\n",
    "        file.readline()\n",
    "        graph = file.read().split(\"\\n\")\n",
    "        graph = nx.nx.parse_edgelist(graph, nodetype = int,\n",
    "                                     data=(('weight',float),))\n",
    "    return PDPT(number_of_vehicles = N,\n",
    "               deposts = deposts, limit = limit,\n",
    "               transfer_points = transfer_points,\n",
    "               requests = requests, graph = graph)"
   ]
  },
  {
   "cell_type": "code",
   "execution_count": 265,
   "metadata": {},
   "outputs": [
    {
     "data": {
      "image/png": "[encoded data removed]",
      "text/plain": [
       "<matplotlib.figure.Figure at 0x7f0c5d602e80>"
      ]
     },
     "metadata": {},
     "output_type": "display_data"
    },
    {
     "name": "stdout",
     "output_type": "stream",
     "text": [
      "This PDPT instance\n",
      "        must to solve: {1: [(2, 3), (5, 9)], 2: [(5, 6)], 3: [(2, 8)], 4: [(1, 7)]}\n",
      "        The route trasfer points are (3, 5)\n",
      "        \n",
      "[[(2, 3), (5, 9)], [(5, 6)], [(2, 8)], [(1, 7)]]\n"
     ]
    }
   ],
   "source": [
    "self = fromfile(path=\"example.pdpt\")\n",
    "print(self)\n",
    "print(self.destinations)"
   ]
  },
  {
   "cell_type": "code",
   "execution_count": 269,
   "metadata": {},
   "outputs": [],
   "source": [
    "a = Vehicle(depost= 1, request=[(1, 2), (3, 1)], limit = 3)\n",
    "b = Vehicle(depost= 2, request=[(3, 5)], limit= 7)"
   ]
  },
  {
   "cell_type": "code",
   "execution_count": 270,
   "metadata": {},
   "outputs": [
    {
     "name": "stdout",
     "output_type": "stream",
     "text": [
      "\n",
      "           o__________________\n",
      "           |              |   \\\n",
      "           |     cap 3    |____\\_____\n",
      "           | _____        |    |_o__ |\n",
      "           [/ ___ \\       |   / ___ \\|\n",
      "          []_/.-.\\_\\______|__/_/.-.\\_[]\n",
      "             |(O)|             |(O)|\n",
      "              '-'   Pos 1       '-'\n",
      "        ---   ---   ---   ---   ---   --- \n",
      "        request : [(1, 2), (3, 1)]\n",
      "        \n"
     ]
    }
   ],
   "source": [
    "print(a)"
   ]
  },
  {
   "cell_type": "code",
   "execution_count": 271,
   "metadata": {},
   "outputs": [],
   "source": [
    "a >> b"
   ]
  },
  {
   "cell_type": "code",
   "execution_count": 272,
   "metadata": {},
   "outputs": [
    {
     "name": "stdout",
     "output_type": "stream",
     "text": [
      "\n",
      "           o__________________\n",
      "           |              |   \\\n",
      "           |     cap 3    |____\\_____\n",
      "           | _____        |    |_o__ |\n",
      "           [/ ___ \\       |   / ___ \\|\n",
      "          []_/.-.\\_\\______|__/_/.-.\\_[]\n",
      "             |(O)|             |(O)|\n",
      "              '-'   Pos 1       '-'\n",
      "        ---   ---   ---   ---   ---   --- \n",
      "        request : [(3, 1)]\n",
      "        \n"
     ]
    }
   ],
   "source": [
    "print(a)"
   ]
  }
 ],
 "metadata": {
  "kernelspec": {
   "display_name": "Python 3",
   "language": "python",
   "name": "python3"
  },
  "language_info": {
   "codemirror_mode": {
    "name": "ipython",
    "version": 3
   },
   "file_extension": ".py",
   "mimetype": "text/x-python",
   "name": "python",
   "nbconvert_exporter": "python",
   "pygments_lexer": "ipython3",
   "version": "3.5.3"
  }
 },
 "nbformat": 4,
 "nbformat_minor": 2
}
